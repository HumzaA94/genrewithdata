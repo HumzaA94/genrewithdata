{
 "cells": [
  {
   "cell_type": "code",
   "execution_count": 1,
   "metadata": {
    "ExecuteTime": {
     "end_time": "2020-05-29T19:06:39.988281Z",
     "start_time": "2020-05-29T19:06:39.066412Z"
    }
   },
   "outputs": [],
   "source": [
    "import pandas as pd"
   ]
  },
  {
   "cell_type": "code",
   "execution_count": 7,
   "metadata": {
    "ExecuteTime": {
     "end_time": "2020-05-29T19:09:09.825530Z",
     "start_time": "2020-05-29T19:09:09.818639Z"
    }
   },
   "outputs": [],
   "source": [
    "filtering_string_dict={\n",
    "    'nba':['''\n",
    "           #### A Little Insight\n",
    "\n",
    "           The following graph allows you to have an idea on the background of the players.''',\n",
    "           'You can adjust the period of the players you are interested in by playing with Range Slider below the Graph.'],\n",
    "    'statsbomb':['''\n",
    "                #### A Little Insight\n",
    "\n",
    "                The following graphs allows you to see a background of the Statsbomb data by leagues.''',\n",
    "                'You can further filter your data before exporting the leagues and/or seasons you are interested in.']\n",
    "}"
   ]
  },
  {
   "cell_type": "code",
   "execution_count": 10,
   "metadata": {
    "ExecuteTime": {
     "end_time": "2020-05-29T19:09:21.852257Z",
     "start_time": "2020-05-29T19:09:21.846331Z"
    }
   },
   "outputs": [
    {
     "name": "stdout",
     "output_type": "stream",
     "text": [
      "\n",
      "                #### A Little Insight\n",
      "\n",
      "                The following graphs allows you to see a background of the Statsbomb data by leagues.\n"
     ]
    }
   ],
   "source": [
    "if 'nba' in 'nba':\n",
    "    print(filtering_string_dict['statsbomb'][0])"
   ]
  },
  {
   "cell_type": "code",
   "execution_count": null,
   "metadata": {},
   "outputs": [],
   "source": []
  }
 ],
 "metadata": {
  "kernelspec": {
   "display_name": "Python 3",
   "language": "python",
   "name": "python3"
  },
  "language_info": {
   "codemirror_mode": {
    "name": "ipython",
    "version": 3
   },
   "file_extension": ".py",
   "mimetype": "text/x-python",
   "name": "python",
   "nbconvert_exporter": "python",
   "pygments_lexer": "ipython3",
   "version": "3.7.7"
  },
  "toc": {
   "base_numbering": 1,
   "nav_menu": {},
   "number_sections": true,
   "sideBar": true,
   "skip_h1_title": false,
   "title_cell": "Table of Contents",
   "title_sidebar": "Contents",
   "toc_cell": false,
   "toc_position": {},
   "toc_section_display": true,
   "toc_window_display": false
  },
  "varInspector": {
   "cols": {
    "lenName": 16,
    "lenType": 16,
    "lenVar": 40
   },
   "kernels_config": {
    "python": {
     "delete_cmd_postfix": "",
     "delete_cmd_prefix": "del ",
     "library": "var_list.py",
     "varRefreshCmd": "print(var_dic_list())"
    },
    "r": {
     "delete_cmd_postfix": ") ",
     "delete_cmd_prefix": "rm(",
     "library": "var_list.r",
     "varRefreshCmd": "cat(var_dic_list()) "
    }
   },
   "types_to_exclude": [
    "module",
    "function",
    "builtin_function_or_method",
    "instance",
    "_Feature"
   ],
   "window_display": false
  }
 },
 "nbformat": 4,
 "nbformat_minor": 4
}
